{
 "cells": [
  {
   "cell_type": "code",
   "execution_count": 1,
   "metadata": {},
   "outputs": [
    {
     "name": "stdout",
     "output_type": "stream",
     "text": [
      "Number of lines in test.source: 240\n",
      "Source 1: The greatest foreign policy disasters have tended to come when the UK has either ignored America - such as when it joined France in invading Suez - or when it has followed the US too blindly, as in the invasion of Iraq, against the warnings of many in Europe. Britain has done better when it has played its traditional role as a bridge between the two continents: seeking to manage America's swings between isolationism and interventionism while at the same time reassuring Europe that the US could be more than just a brash Nato ally. This Atlanticist analysis is, of course, a simplification of a complex relationship, but the point stands: the UK has a unique opportunity by virtue of its history and geography to bring the US and Europe together, not take sides. And yet the election of Donald Trump risks doing just that, driving a wedge between Britain and the EU just when both sides need it least. Since the president-elect's shock election, the British government has staggered, recovered its balance and started making overtures to the emerging administration. Its public statements have been welcoming and warm. Here is Foreign Secretary Boris Johnson's latest description of the president-elect, in a Czech newspaper: \"Donald Trump is dealmaker, he is a guy who believes firmly in values that I believe in too - freedom and democracy. As far as I understand, he is in many aspects a liberal guy from New York.\" This is a long way from the criticisms that he and Prime Minister Theresa May uttered during the campaign. But both are now eating their words without shame, for they believe that it is in the national interest for the government to engage with next president of the United States, whatever his character, temperament and policy agenda. The prime minister's Guildhall speech - arguing that everyone should benefit from globalisation - may have been designed to show British voters that she has an agenda for change. But it also sent a strong signal to Mr Trump that she understood the forces that led to his election and the shared need for the whole world to address them. In contrast, some EU countries have worn their hearts on their sleeve and expressed their dissatisfaction at the election of a man whose opinions they find distasteful. This was the context of the emergency meeting of EU foreign ministers this week, which Boris Johnson dismissed as a \"whinge-o-rama\". Some British diplomats saw the meeting as an attempt by the EU foreign policy chief, Federica Mogherini, to grandstand and use Mr Trump's election to drive forward her own agenda for more EU defence cooperation. She was distinctly sarcastic about Mr Johnson's refusal to attend the meeting, saying it was \"normal\" for a country that had decided to leave the EU not to be interested in its relations with the US. As if that were not enough, Mr Johnson also clashed with his EU counterparts over Turkey, urging them not to lecture Ankara over the death penalty. And some EU leaders will not like Mrs May acknowledging the strength of Mr Trump's anti-globalisation arguments just as they prepare to do electoral battle with populist parties flying the same anti-establishment flag. So on the face of it, Britain is falling out with Europe over Mr Trump just when its overwhelming foreign policy objective should be preparing the way for Brexit, working closely with European allies to find the areas of common ground where a potential deal could be done. This should be a time for cool diplomacy, not hot-headed spats over who is going to which meeting. And all this before the tough decisions come. Responding to an election is one thing. It is quite another to choose sides when there are real policy dilemmas on the table. What happens if Mr Trump makes overtures to Russia and calls for sanctions over Ukraine to be reduced? What happens if Mr Trump ends US support for Syrian rebels and orders the US military to join forces with Russia against the Islamic State group? This was the one issue of substance Messrs Trump and Putin discussed in their telephone call this week. And what happens if Mr Trump is true to his word and reduces the US commitment to Nato? All of these are policy choices that could see the UK not only reverse longstanding positions but also place itself at odds with either the US or the EU. This is the context for Mrs May's trip to Berlin on Friday where she will meet President Obama and four of her most important European counterparts, from Germany, France , Italy and Spain. The challenge for this untested, newly appointed prime minister will be to walk that traditional fine line between the US and Europe. She has to prepare the way for these tough policy decisions, urging Europe to engage with a president-elect who cannot be ignored. But equally she will be under some pressure to make it clear to the travelling Americans that Britain will not roll over and accept automatically whatever foreign policy emerges from a Trump-led Washington. The UK-US relationship is hardly special at the moment. Mr Trump has shown no hesitation at embarrassing Mrs May by giving Nigel Farage a photo-opportunity at Trump Towers, giving the impression that the UKIP leader is filling a vacuum left by the Foreign Office. Mr Obama has chosen to visit Greece and Germany and not the UK on a valedictory European tour and in a news conference described Chancellor Merkel as \"probably... my closest international partner these eight years\". In vain did David Cameron flip those burgers in the Downing Street garden with the president. As the one time US Secretary of State Dean Acheson once wrote: \"Of course a unique relation existed between Britain and America... but unique did not mean affectionate.\" So the task now for the British government is to engage with Mr Trump's incipient administration and do what it can - if anything - to shape and influence his foreign policy before firm positions are established. Officials recognise there is a window of opportunity in the coming weeks that should not be wasted that could set the terms for discussions about trade and security. Mrs May is pushing for an early meeting with Mr Trump before the inauguration in January. The Foreign Office is already holding talks with the Trump team about the possibility of Mr Johnson travelling to Washington to meet the Vice-President-elect, Mike Pence, and potentially others in the Trump team in the next few weeks. Officials insist that these discussions began before Mr Farage began claiming his ambassadorial role with Mr Trump. But at the same time, the government also has to ensure that this process of engagement with the US does not make Brexit harder by losing what little political support it still has in Europe's chancelleries. The former Chancellor George Osborne told ITV this week that Britain's focus should be on Europe. \"For the first time really, the most important decisions over the next few years are going to be about our relationship with Europe, not about our relationship with the United States,\" he said. In the past few months, the votes for Brexit and Donald Trump have overturned many of Britain's traditional foreign policy assumptions. The government needs to repair relations with both the US and the EU while not antagonising both in process. Falling between the two geopolitical stools would leave the UK floundering mid-Atlantic without a paddle.\n",
      "Source 2: \"I am seriously considering emigrating to Australia, Jamaica or the US,\" says Faye Jones. The 32-year-old PA from Wokingham jumps every time there's a knock at the door and tiptoes around neighbours who might call the police. Her crime? Five years ago, Faye was diagnosed with rheumatoid arthritis and after suffering from the side effects of prescribed drugs, she now uses cannabis to ease her pain, nausea and inflammation. In the UK, where cannabis is a Class B drug, police can issue warnings or on-the-spot fines for possession of a small amount, while courts can impose sentences of up to five years for possession of larger amounts and up to 14 years for those who supply or produce it. Faye - a campaigner for United Patients Alliance (UPA), which is calling for cannabis to be legally accessed by patients - has a raft of places she could start a new life. Medicinal cannabis is legal - or being legalised - in 25 US states, and in countries from Canada to Italy. \"But I'd rather not leave the country I was born in,\" she says. \"Mum would be devastated.\" Perhaps now she won't have to. A group of MPs has called on the government to legalise medical cannabis after publishing the results of a seven-month inquiry into medicinal use of the drug. The All Party Parliamentary Group (APPG) for Drug Policy Reform took evidence from 623 patients, professionals and experts and more than 20,000 scientific and medical reports were reviewed. \"The results are clear. Cannabis has a medical benefit for a wide range of conditions,\" says Mike Barnes, a professor of neurological rehabilitation. However, the NHS warns that cannabis use carries a number of risks, such as impairing the ability to drive, as well as causing harm to lungs if smoked and harm to mental health, fertility or unborn babies. It can also have other serious consequences, with users potentially vulnerable to developing psychotic illnesses, the Royal College of Psychiatrists says. A Home Office spokesman said the government had no plan to legalise cannabis, adding: \"There is a substantial body of scientific and medical evidence to show that cannabis is a harmful drug which can damage people's mental and physical health.\" Yet the End Our Pain campaign, which supports the legalisation of medical cannabis, estimates that one million people across the UK rely on the drug for medical reasons. By Michelle Roberts, health editor, BBC News online. After weighing the evidence, experts say there is a clear therapeutic role for medical cannabis. There is good evidence that it helps alleviate the symptoms of chronic pain, MS and nausea associated with chemotherapy, as well as anxiety. But for treating other conditions, such as depression, headaches and epilepsy, there is limited or no convincing evidence that it works. Like any drug, cannabis can cause side effects. Smoking cannabis in a joint rolled with tobacco can make asthma worse and probably increases the risk of lung cancer. Regular cannabis use puts some people at increased risk of psychotic disorders, such as schizophrenia, and can also reduce fertility. Cannabis is addictive and you may experience withdrawal symptoms such as cravings, difficulty sleeping, sweating and shaking. Cannabis affects how the brain works. It can make users feel very anxious and even paranoid, it can make it difficult to concentrate and learn. 37. average age of patient. 67%. try conventional medicines first. 37% don't tell their doctor. 72% buy street cannabis. 20% grow their own. The United Patients Alliance says 30% of cannabis patients surveyed by the APPG cited depression as a reason for self-medication - though patients reported multiple conditions and depression often accompanies other primary conditions. About a quarter of patients said they used the drug to combat anxiety and a quarter mentioned pain. Almost 70% of the patients surveyed said they had tried conventional medicines first, before turning to cannabis. Doctors told Faye she would have to take low dosages of cancer drugs for the rest of her life to deal with her rheumatoid arthritis. But after suffering hair loss, frequent sickness and \"brain fog\", her job became untenable and her boss took her aside. \"I'd just bought a house and had a mortgage - I couldn't afford to lose my job,\" she says. Inspired by MS patients, she tried cannabis and now spends about £250 a month making her own capsules and creams, mixing cannabis oil and coconut oil. Faye says she takes the pills \"like I would ibuprofen, when I need them\", claiming that the low dosage is not enough to make her high. Along with 38% of users surveyed by the APPG, she also uses a vaporiser to consume the drug. Fewer than a third smoke it with tobacco; one in five smokes it without tobacco. Others eat it, take capsules or use creams. MS patient Penny Fitzlyon, from London, said she was prescribed a variety of opiates which \"switched off all interest in the outside world\". She said they left her \"feeling grotty and miserable\", took away her sense of humour and made her constipated. \"Then after a second MRI scan, I overheard a nurse saying it wouldn't be long before I'd be in a wheelchair,\" she says. \"So I started doing my own research. Cannabis was the only thing I could find that hadn't killed anyone.\" Penny, 52, says she tracked down a herbalist who, unlike street sellers, knew how to mix different strains of cannabis for different patients. \"We want to get rid of street dealers,\" she says. \"Backstreet cannabis is not good - they mix it with sand or glass to make it look all sparkly and heavy.\" Some 72% of cannabis bought for medicinal use is purchased on the street or from friends, but 20% of users grow their own, in groups or by themselves. The remainder is sourced on the internet or abroad, according to those surveyed by the APPG. Penny, who has been cautioned by the police twice, estimates that she spends £5,000 a year on cannabis - a fraction of the £30,000 annual cost of MS prescription drugs, she says. Though she avoids \"getting stoned\", without small doses of the drug Penny finds simple tasks such as walking to the shops \"incredibly painful\". For Jon Liebling, from Reading, brushes with the law have only made him more determined to fight for the right to use cannabis as a medicine. A traumatic childhood, with a mother who attempted suicide and an absent father, left Jon anxious, depressed and struggling to concentrate at school. But after trying cannabis at university, he didn't look back. \"I knew it was illegal\", he says, \"But it just worked. All the pain and stress I'd carried in my back, shoulders and neck for years just went.\" But the 48-year-old's use of cannabis would see him arrested by the police three times - forcing him to leave university, drop out of a nurses' training course and finally land him in court for growing his own. Though the arrests led to no more than a slap on the wrist and a fine, he said they left him feeling \"angry and disenfranchised\". \"My life has been ruined by the law,\" he says. Now, as political director of the UPA, Jon says the conclusions of the parliamentary group are \"incredibly exciting\". \"I don't think judges really want to put people away for it,\" he says. \"I was really honest with the judge about my medical history and he was really sympathetic.\" Though Faye fears the police \"taking away her medicine\" or indeed sending her to prison, she says most people are \"very understanding\" - even potential employers. She says she has mentioned her End Our Pain campaigning in numerous job interviews \"and it never stopped me getting a second interview\". \"I'm cannabis proud,\" she says.\n",
      "Source 3: Severnside Provisions, of Leeway Industrial Estate, was also ordered to pay £400,000 at the city's crown court on Friday. Directors Anthony O'Sullivan, 47, and Martin Lincoln, 46, were given 24-week terms after admitting 12 offences. An investigation was launched in December 2013. In a statement, Newport city council said the pair were warned in 2010 that their company was not permitted to carry out turkey processing. However, it said records showed that large quantities of meat was sold by Severnside Provisions in 2011, 2012 and 2013. After an investigation started, environmental health officers found large quantities of turkey defrosting outside in dirty water and being processed in a garage in \"unhygienic conditions\". Items seized were destroyed but the Food Standards Agency launched a national recall after finding turkeys had already been sold to butchers' shops and restaurants. The council said O'Sullivan and Lincoln had admitted 12 food hygiene offences, including that they sold food that was unsafe and failed to keep equipment clean. As well as being jailed, the two directors were ordered to pay a confiscation award of £271,815 under the Proceeds of Crime Act and council costs of £35,185. The company was also fined £100,000. Newport councillor Bob Poole said: \"This company was putting people's health at serious risk for the sake of profit.\"\n",
      "Source 4: They said the Chinese authorities had never before reported this to the Convention on International Trade in Endangered Species of Wild Fauna and Flora (Cites). However, during the convention's standing committee meeting in Geneva, China reportedly said that it still banned tiger bones. \"A Chinese delegate said, 'we don't ban trade in tiger skins but we do ban trade in tiger bones,'\" a participant in the meeting said. Cites secretariat sources confirmed that a member of the Chinese delegation had said this. Chinese Foreign Ministry spokesman Qin Gang told the BBC Chinese Service he could not verify the reported admission, but he said that China will \"investigate and combat\" any illegal trade in tiger skins. Between 5,000 and 6,000 tigers are believed to be in captivity in China. Wildlife conservation organisations have long demanded an end to the trade in skins. Wildlife experts believe \"tiger farming\" in China has fuelled demand for the poaching and trafficking of the endangered species elsewhere. They say the admission at the meeting will increase pressure on China to curb the practice. Reports also say that the facilities where the captive tigers are held have been providing live animals and parts for illegal international trade. According to officials and participants at the Cites meeting, the admission from China followed the presentation of a report which gave details of how the Chinese government had allowed commercial trade in skins from captive tigers. \"The report presented in the meeting created a situation that required China to respond,\" said a participant who did not wish to be named. \"Basically when the meeting focused on the findings of this report, the Chinese delegate intervened,\" he said. \"It was the first time they admitted officially that this trade exists in China.\" Participants say this created quite a sensation during the Cites meeting. \"After the Chinese intervention... we too intervened and made it clear that the investigations we have done with other organisations clearly show that the trade in China is happening on a commercial scale,\" said Shruti Suresh, a wildlife campaigner with the UK-based Environment Investigation Agency, which has investigated the illegal wildlife trade across the globe. \"The clarification was necessary because the Chinese delegate did not say that it was happening on a commercial scale, and there was a risk that the trade could later be misreported as something done for scientific research or, say, displays in the museums.\" Member countries of the Cites are required to report on what progress they have made to ensure that trade in specimens of wild animals and plants does not threaten their survival. A new report on illegal wildlife trade suggests that around 1,600 tigers, both from captivity and the wild, have been traded globally since 2000. While China has been a major market for tiger parts, wildlife experts say other South East Asian countries like Vietnam, Thailand, Lao, Cambodia, Malaysia and Indonesia are also emerging as consumers, where tiger farming is growing. Reports say that in the past two years, there have been seizures of nearly 90 tigers likely to have been sourced from, or trafficked through, captive facilities across South East Asia and China. \"Demand-reduction efforts and enforcement and anti-trafficking activities are undermined both by the existence of facilities that keep and breed tigers for commercial purposes, and the lack of enforcement to stop trade from or through them,\" says a report by Species Survival Network (SSN), whose members include more than 100 wildlife conservation organisations. \"Trade in these specimens perpetuated the desirability of tiger parts and China's experiment in licensing the domestic trade in skins of captive tigers has done nothing to alleviate pressure on wild tigers, as evidenced through continued poaching in the wild.\" A little more than 3,000 tigers are believed to be left in the wild across the globe. More than half of those are in India, where 42 tigers were killed last year. \"If the Chinese government has admitted the trade in tiger skins, I think it is a forward step toward curbing illegal trade in tiger parts,\" said SP Yadav, deputy inspector general of India's National Tiger Conservation Authority. \"Denial mode does not help solve the problem but once you accept what is happening, it's easy to move ahead.\" The SSN report says the skins of tigers, leopards and snow leopards are valued among the political, military and business elite as luxury home decorations in China. \"The outcome of recent corruption cases in China confirm they are 'gifted' as non-financial bribes to officials,\" the report says. In 2005, China had announced that it was considering re-opening the domestic trade in tiger bone from tiger breeding facilities. Two years later, Cites parties adopted a decision calling for the phasing out of such facilities.\n",
      "Source 5: It also defied predictions that it would not survive the collapse of its one-time supporter, the Soviet Union. Since the fall of the US-backed dictatorship of Fulgencio Batista in 1959, Cuba has been a one-party state led by Mr Castro and - since February 2008 - by his chosen successor and younger brother, Raul. Fidel Castro exercised control over virtually all aspects of Cuban life through the Communist Party and its affiliated mass organisations, the government bureaucracy and the state security apparatus. Exploiting the Cold War, Fidel Castro was for decades able to rely on strong Soviet backing, including annual subsidies worth $4-5 billion, and succeed in building reputable health and education systems. But, at least partly because of the US trade sanctions, he failed to diversify the economy. The US and Cuba agreed in 2014 to normalise relations. Population 11.2 million. Area 110,860 sq km (42,803 sq miles) Major language Spanish. Major religion Christianity. Life expectancy 77 years (men), 81 years (women) Currency Cuban peso. Raul Castro, the world's longest-serving defence minister, took over as president in February 2008, succeeding his ailing brother Fidel, who had been in power for five decades. After being re-elected by the single-party National Assembly in February 2013, Raul announced his intention to stand down at the end of his second term in 2018. Fidel Castro brought revolution to Cuba in the 1950s and created the western hemisphere's first Communist state. His beard, long speeches, cigar, army fatigues and defiance of the United States earned him iconic status across the globe. Raul, 76 at the time of this appointment, has been his brother's trusted right-hand man and was once known as an iron-fisted ideologue who executed Fidel Castro's orders - and enemies - ruthlessly. Under his leadership, Cuba's Revolutionary Armed Forces became one of the most formidable fighting forces in the Third World with combat experience in Africa, where they defeated South Africa's army in Angola in 1987. The Cuban media are tightly controlled by the government and journalists must operate within the confines of laws against anti-government propaganda and the insulting of officials which carry penalties of up to three years in prison. Reporters without Borders in early 2016 described Cuba as \"one of the world's worst countries from the viewpoint of journalistsâ€¦ independent journalists and bloggers are constantly persecuted by the Castro government\". Some key dates in Cuba's history:. 1898 - Cuba is ceded to the US which defeated Spain in war. 1902 - Cuba becomes independent under the protection of the US. 1933 - Sergeant Fulgencio Batista seizes power in a coup. 1959 - Fidel Castro leads a guerrilla army into Havana, forcing Batista to flee. 1961 - US breaks off diplomatic relations in response to the nationalization of US-owned properties, and later imposes a complete commercial embargo. 1961 - Cuban exiles backed by the US try to invade Cuba at the Bay of Pigs, but are defeated. 1962 - The US and the Soviet Union have a showdown that almost touches off war after the US discovers Soviet nuclear missiles on Cuba. The confrontation ends with the Soviets removing the missiles and the US agreeing never to invade Cuba. 1975 - Castro sends troops to Angola to help fight rebels backed by South Africa. It is the start of 15 years of war in which 300,000 Cubans will fight. 1991 - The Soviet Union, Cuba's biggest benefactor, collapses, touching off an economic crisis. 2006 - Fidel Castro provisionally turns over power to brother Raul Castro, who becomes president in 2008. 2014 - US President Barack Obama and President Castro announce moves to normalise diplomatic relations, severed for more than 50 years.\n"
     ]
    }
   ],
   "source": [
    "# Analyze data/test.source\n",
    "with open('data/test.source', 'r', encoding='utf-8') as f:\n",
    "    lines = f.readlines()\n",
    "\n",
    "print(f\"Number of lines in test.source: {len(lines)}\")\n",
    "for i, line in enumerate(lines[:5]):  # Print the first 5 lines\n",
    "    print(f\"Source {i + 1}: {line.strip()}\")\n"
   ]
  },
  {
   "cell_type": "code",
   "execution_count": 2,
   "metadata": {},
   "outputs": [
    {
     "name": "stdout",
     "output_type": "stream",
     "text": [
      "Number of entries in test.json: 240\n",
      "Entry 1:\n",
      "  Source: The greatest foreign policy disasters have tended to come when the UK has either ignored America - s...\n",
      "  Entities: [{'start': 67, 'end': 69, 'label': 'Non-hallucinated', 'type': 'GPE', 'ent': 'UK'}, {'start': 89, 'end': 96, 'label': 'Non-hallucinated', 'type': 'GPE', 'ent': 'America'}, {'start': 122, 'end': 128, 'label': 'Non-hallucinated', 'type': 'GPE', 'ent': 'France'}, {'start': 176, 'end': 178, 'label': 'Non-hallucinated', 'type': 'GPE', 'ent': 'US'}, {'start': 214, 'end': 218, 'label': 'Non-hallucinated', 'type': 'GPE', 'ent': 'Iraq'}]\n",
      "Entry 2:\n",
      "  Source: \"I am seriously considering emigrating to Australia, Jamaica or the US,\" says Faye Jones. The 32-yea...\n",
      "  Entities: [{'start': 98, 'end': 109, 'label': 'Non-hallucinated', 'type': 'CARDINAL', 'ent': 'one million'}, {'start': 128, 'end': 130, 'label': 'Non-hallucinated', 'type': 'GPE', 'ent': 'UK'}]\n",
      "Entry 3:\n",
      "  Source: Severnside Provisions, of Leeway Industrial Estate, was also ordered to pay £400,000 at the city's c...\n",
      "  Entities: [{'start': 0, 'end': 3, 'label': 'Non-hallucinated', 'type': 'CARDINAL', 'ent': 'Two'}, {'start': 48, 'end': 55, 'label': 'Non-hallucinated', 'type': 'ORG', 'ent': 'Newport'}]\n"
     ]
    }
   ],
   "source": [
    "import json\n",
    "\n",
    "# Analyze data/test.json\n",
    "with open('data/test.json', 'r', encoding='utf-8') as f:\n",
    "    data = json.load(f)\n",
    "\n",
    "print(f\"Number of entries in test.json: {len(data)}\")\n",
    "for i, entry in enumerate(data[:3]):  # Print the first 3 entries\n",
    "    print(f\"Entry {i + 1}:\")\n",
    "    print(f\"  Source: {entry['source'][:100]}...\")  # Print the first 100 characters of the source\n",
    "    print(f\"  Entities: {entry['entities']}\")\n"
   ]
  },
  {
   "cell_type": "code",
   "execution_count": 3,
   "metadata": {},
   "outputs": [
    {
     "name": "stdout",
     "output_type": "stream",
     "text": [
      "Number of entries in train.json: 460\n",
      "Entry 1:\n",
      "  Source: Ch Insp David Pettigrew believes the cameras would act as a deterrent to disorder and vandalism. Gla...\n",
      "  Entities: [{'start': 39, 'end': 43, 'label': 'Non-hallucinated', 'type': 'ORG', 'ent': 'CCTV'}]\n",
      "Entry 2:\n",
      "  Source: Coleman senior died in 2014 after his son's first campaign in charge of Wales had ended with the fai...\n",
      "  Entities: [{'start': 0, 'end': 5, 'label': 'Non-hallucinated', 'type': 'GPE', 'ent': 'Wales'}, {'start': 14, 'end': 19, 'label': 'Non-hallucinated', 'type': 'PERSON', 'ent': 'Chris'}, {'start': 20, 'end': 27, 'label': 'Non-hallucinated', 'type': 'PERSON', 'ent': 'Coleman'}, {'start': 49, 'end': 54, 'label': 'Non-hallucinated', 'type': 'PERSON', 'ent': 'Chris'}, {'start': 107, 'end': 118, 'label': 'Non-factual Hallucination', 'type': 'PERSON', 'ent': 'semi-finals'}]\n",
      "Entry 3:\n",
      "  Source: The 60-year-old man was scuba diving at Agincourt Reef in Far North Queensland when he was seen to b...\n",
      "  Entities: [{'start': 9, 'end': 15, 'label': 'Intrinsic Hallucination', 'type': 'NORP', 'ent': 'French'}, {'start': 36, 'end': 44, 'label': 'Non-factual Hallucination', 'type': 'DATE', 'ent': 'two days'}, {'start': 69, 'end': 79, 'label': 'Factual Hallucination', 'type': 'NORP', 'ent': 'Australian'}, {'start': 93, 'end': 99, 'label': 'Non-hallucinated', 'type': 'ORDINAL', 'ent': 'second'}]\n"
     ]
    }
   ],
   "source": [
    "# Analyze data/train.json\n",
    "with open('data/train.json', 'r', encoding='utf-8') as f:\n",
    "    train_data = json.load(f)\n",
    "\n",
    "print(f\"Number of entries in train.json: {len(train_data)}\")\n",
    "for i, entry in enumerate(train_data[:3]):  # Print the first 3 entries\n",
    "    print(f\"Entry {i + 1}:\")\n",
    "    print(f\"  Source: {entry['source'][:100]}...\")  # Print the first 100 characters of the source\n",
    "    print(f\"  Entities: {entry['entities']}\")\n"
   ]
  },
  {
   "cell_type": "code",
   "execution_count": 4,
   "metadata": {},
   "outputs": [],
   "source": [
    "# Cross-check alignment between test.source and test.json\n",
    "with open('data/test.source', 'r', encoding='utf-8') as f:\n",
    "    source_lines = [line.strip() for line in f.readlines()]\n",
    "\n",
    "with open('data/test.json', 'r', encoding='utf-8') as f:\n",
    "    test_data = json.load(f)\n",
    "\n",
    "for i, (source_line, json_entry) in enumerate(zip(source_lines, test_data)):\n",
    "    if source_line != json_entry['source']:\n",
    "        print(f\"Mismatch at line {i + 1}:\")\n",
    "        print(f\"  test.source: {source_line}\")\n",
    "        print(f\"  test.json: {json_entry['source']}\")\n"
   ]
  },
  {
   "cell_type": "code",
   "execution_count": null,
   "metadata": {},
   "outputs": [
    {
     "name": "stdout",
     "output_type": "stream",
     "text": [
      "Entity label distribution in test.json:\n",
      "Counter({'Non-hallucinated': 583, 'Non-factual Hallucination': 134, 'Factual Hallucination': 118, 'Intrinsic Hallucination': 8})\n",
      "Entity type distribution in test.json:\n",
      "Counter({'PERSON': 264, 'GPE': 173, 'ORG': 125, 'DATE': 98, 'CARDINAL': 61, 'NORP': 47, 'ORDINAL': 19, 'LOC': 15, 'EVENT': 11, 'MONEY': 10, 'PERCENT': 5, 'TIME': 4, 'PRODUCT': 3, 'WORK_OF_ART': 2, 'QUANTITY': 2, 'Unknown': 2, 'FAC': 2})\n",
      "Entity label distribution in train.json:\n",
      "Counter({'Non-hallucinated': 1093, 'Factual Hallucination': 270, 'Non-factual Hallucination': 230, 'Intrinsic Hallucination': 39})\n",
      "Entity type distribution in train.json:\n",
      "Counter({'PERSON': 483, 'GPE': 355, 'ORG': 252, 'DATE': 177, 'CARDINAL': 106, 'NORP': 99, 'ORDINAL': 42, 'LOC': 28, 'MONEY': 24, 'FAC': 21, 'EVENT': 15, 'WORK_OF_ART': 10, 'TIME': 8, 'QUANTITY': 4, 'PRODUCT': 4, 'PERCENT': 2, 'LAW': 2})\n"
     ]
    }
   ],
   "source": [
    "from collections import Counter\n",
    "\n",
    "# Analyze entity label and type distribution\n",
    "def analyze_entity_distribution(data, dataset_name):\n",
    "    labels = []\n",
    "    types = []\n",
    "    for entry in data:\n",
    "        for entity in entry['entities']:\n",
    "            labels.append(entity.get('label', 'Unknown'))\n",
    "            types.append(entity.get('type', 'Unknown'))  \n",
    "    \n",
    "    print(f\"Entity label distribution in {dataset_name}:\")\n",
    "    print(Counter(labels))\n",
    "    print(f\"Entity type distribution in {dataset_name}:\")\n",
    "    print(Counter(types))\n",
    "\n",
    "# Run the analysis\n",
    "analyze_entity_distribution(test_data, \"test.json\")\n",
    "analyze_entity_distribution(train_data, \"train.json\")\n"
   ]
  },
  {
   "cell_type": "code",
   "execution_count": 7,
   "metadata": {},
   "outputs": [],
   "source": [
    "# Check for missing or empty data\n",
    "def check_missing_data(data, dataset_name):\n",
    "    for i, entry in enumerate(data):\n",
    "        if not entry['source']:\n",
    "            print(f\"Missing source in {dataset_name} at entry {i + 1}\")\n",
    "        if not entry['entities']:\n",
    "            print(f\"No entities in {dataset_name} at entry {i + 1}\")\n",
    "\n",
    "check_missing_data(test_data, \"test.json\")\n",
    "check_missing_data(train_data, \"train.json\")\n"
   ]
  },
  {
   "cell_type": "code",
   "execution_count": 8,
   "metadata": {},
   "outputs": [
    {
     "name": "stdout",
     "output_type": "stream",
     "text": [
      "test.json Source Lengths:\n",
      "  Average: 353.32\n",
      "  Max: 1725, Min: 36\n",
      "test.json Entity Counts:\n",
      "  Average: 3.51\n",
      "  Max: 11, Min: 1\n",
      "train.json Source Lengths:\n",
      "  Average: 345.24\n",
      "  Max: 1472, Min: 49\n",
      "train.json Entity Counts:\n",
      "  Average: 3.55\n",
      "  Max: 12, Min: 1\n"
     ]
    }
   ],
   "source": [
    "# Analyze length of source and number of entities\n",
    "def analyze_lengths(data, dataset_name):\n",
    "    source_lengths = [len(entry['source'].split()) for entry in data]\n",
    "    entity_counts = [len(entry['entities']) for entry in data]\n",
    "    \n",
    "    print(f\"{dataset_name} Source Lengths:\")\n",
    "    print(f\"  Average: {sum(source_lengths)/len(source_lengths):.2f}\")\n",
    "    print(f\"  Max: {max(source_lengths)}, Min: {min(source_lengths)}\")\n",
    "    print(f\"{dataset_name} Entity Counts:\")\n",
    "    print(f\"  Average: {sum(entity_counts)/len(entity_counts):.2f}\")\n",
    "    print(f\"  Max: {max(entity_counts)}, Min: {min(entity_counts)}\")\n",
    "\n",
    "analyze_lengths(test_data, \"test.json\")\n",
    "analyze_lengths(train_data, \"train.json\")\n"
   ]
  },
  {
   "cell_type": "code",
   "execution_count": 9,
   "metadata": {},
   "outputs": [
    {
     "name": "stdout",
     "output_type": "stream",
     "text": [
      "Keyword search results in test.json:\n",
      "  Trump: 7\n",
      "  Brexit: 6\n",
      "  globalisation: 1\n",
      "Keyword search results in train.json:\n",
      "  Trump: 7\n",
      "  Brexit: 6\n",
      "  globalisation: 0\n"
     ]
    }
   ],
   "source": [
    "# Search for specific keywords in source texts\n",
    "keywords = [\"Trump\", \"Brexit\", \"globalisation\"]\n",
    "\n",
    "def keyword_search(data, dataset_name, keywords):\n",
    "    keyword_count = {keyword: 0 for keyword in keywords}\n",
    "    for entry in data:\n",
    "        for keyword in keywords:\n",
    "            if keyword in entry['source']:\n",
    "                keyword_count[keyword] += 1\n",
    "    \n",
    "    print(f\"Keyword search results in {dataset_name}:\")\n",
    "    for keyword, count in keyword_count.items():\n",
    "        print(f\"  {keyword}: {count}\")\n",
    "\n",
    "keyword_search(test_data, \"test.json\", keywords)\n",
    "keyword_search(train_data, \"train.json\", keywords)\n"
   ]
  },
  {
   "cell_type": "code",
   "execution_count": 10,
   "metadata": {},
   "outputs": [
    {
     "name": "stdout",
     "output_type": "stream",
     "text": [
      "No overlaps found between train.json and test.json.\n"
     ]
    }
   ],
   "source": [
    "# Check for overlaps between train.json and test.json\n",
    "train_sources = {entry['source'] for entry in train_data}\n",
    "test_sources = {entry['source'] for entry in test_data}\n",
    "\n",
    "overlaps = train_sources.intersection(test_sources)\n",
    "if overlaps:\n",
    "    print(\"Overlapping sources found between train.json and test.json:\")\n",
    "    for overlap in overlaps:\n",
    "        print(overlap)\n",
    "else:\n",
    "    print(\"No overlaps found between train.json and test.json.\")\n"
   ]
  },
  {
   "cell_type": "code",
   "execution_count": 12,
   "metadata": {},
   "outputs": [],
   "source": [
    "# Save analyzed data\n",
    "with open('data/analyzed_test.json', 'w', encoding='utf-8') as f:\n",
    "    json.dump(test_data, f, ensure_ascii=False, indent=4)\n",
    "\n",
    "with open('data/analyzed_train.json', 'w', encoding='utf-8') as f:\n",
    "    json.dump(train_data, f, ensure_ascii=False, indent=4)\n"
   ]
  },
  {
   "cell_type": "code",
   "execution_count": 13,
   "metadata": {},
   "outputs": [
    {
     "name": "stdout",
     "output_type": "stream",
     "text": [
      "--- test.json Type-Label Pair Patterns ---\n",
      "  ('PERSON', 'Non-hallucinated'): 197\n",
      "  ('GPE', 'Non-hallucinated'): 136\n",
      "  ('ORG', 'Non-hallucinated'): 90\n",
      "  ('DATE', 'Non-hallucinated'): 43\n",
      "  ('DATE', 'Non-factual Hallucination'): 41\n",
      "  ('PERSON', 'Factual Hallucination'): 38\n",
      "  ('CARDINAL', 'Non-hallucinated'): 37\n",
      "  ('NORP', 'Non-hallucinated'): 35\n",
      "  ('PERSON', 'Non-factual Hallucination'): 28\n",
      "  ('ORG', 'Factual Hallucination'): 23\n",
      "  ('GPE', 'Factual Hallucination'): 22\n",
      "  ('CARDINAL', 'Non-factual Hallucination'): 20\n",
      "  ('ORDINAL', 'Non-hallucinated'): 14\n",
      "  ('DATE', 'Factual Hallucination'): 14\n",
      "  ('GPE', 'Non-factual Hallucination'): 13\n",
      "  ('ORG', 'Non-factual Hallucination'): 12\n",
      "  ('LOC', 'Non-hallucinated'): 9\n",
      "  ('NORP', 'Factual Hallucination'): 9\n",
      "  ('EVENT', 'Non-hallucinated'): 7\n",
      "  ('MONEY', 'Non-factual Hallucination'): 6\n",
      "  ('ORDINAL', 'Non-factual Hallucination'): 4\n",
      "  ('CARDINAL', 'Factual Hallucination'): 3\n",
      "  ('PRODUCT', 'Non-hallucinated'): 3\n",
      "  ('EVENT', 'Factual Hallucination'): 3\n",
      "  ('LOC', 'Non-factual Hallucination'): 3\n",
      "  ('MONEY', 'Non-hallucinated'): 3\n",
      "  ('NORP', 'Non-factual Hallucination'): 3\n",
      "  ('LOC', 'Factual Hallucination'): 3\n",
      "  ('WORK_OF_ART', 'Non-hallucinated'): 2\n",
      "  ('QUANTITY', 'Non-hallucinated'): 2\n",
      "  ('PERCENT', 'Non-hallucinated'): 2\n",
      "  ('GPE', 'Intrinsic Hallucination'): 2\n",
      "  ('TIME', 'Intrinsic Hallucination'): 2\n",
      "  ('PERCENT', 'Intrinsic Hallucination'): 2\n",
      "  ('CARDINAL', 'Intrinsic Hallucination'): 1\n",
      "  ('Unknown', 'Non-hallucinated'): 1\n",
      "  ('Unknown', 'Non-factual Hallucination'): 1\n",
      "  ('FAC', 'Factual Hallucination'): 1\n",
      "  ('TIME', 'Non-hallucinated'): 1\n",
      "  ('TIME', 'Non-factual Hallucination'): 1\n",
      "  ('PERSON', 'Intrinsic Hallucination'): 1\n",
      "  ('MONEY', 'Factual Hallucination'): 1\n",
      "  ('EVENT', 'Non-factual Hallucination'): 1\n",
      "  ('PERCENT', 'Non-factual Hallucination'): 1\n",
      "  ('FAC', 'Non-hallucinated'): 1\n",
      "  ('ORDINAL', 'Factual Hallucination'): 1\n",
      "--- train.json Type-Label Pair Patterns ---\n",
      "  ('PERSON', 'Non-hallucinated'): 339\n",
      "  ('GPE', 'Non-hallucinated'): 268\n",
      "  ('ORG', 'Non-hallucinated'): 172\n",
      "  ('PERSON', 'Factual Hallucination'): 90\n",
      "  ('NORP', 'Non-hallucinated'): 84\n",
      "  ('DATE', 'Non-hallucinated'): 81\n",
      "  ('DATE', 'Non-factual Hallucination'): 72\n",
      "  ('GPE', 'Factual Hallucination'): 60\n",
      "  ('ORG', 'Factual Hallucination'): 57\n",
      "  ('CARDINAL', 'Non-hallucinated'): 54\n",
      "  ('PERSON', 'Non-factual Hallucination'): 52\n",
      "  ('CARDINAL', 'Non-factual Hallucination'): 29\n",
      "  ('ORDINAL', 'Non-hallucinated'): 24\n",
      "  ('DATE', 'Factual Hallucination'): 19\n",
      "  ('ORG', 'Non-factual Hallucination'): 18\n",
      "  ('GPE', 'Non-factual Hallucination'): 18\n",
      "  ('LOC', 'Non-hallucinated'): 17\n",
      "  ('FAC', 'Non-hallucinated'): 15\n",
      "  ('CARDINAL', 'Factual Hallucination'): 14\n",
      "  ('MONEY', 'Non-hallucinated'): 12\n",
      "  ('ORDINAL', 'Non-factual Hallucination'): 11\n",
      "  ('NORP', 'Factual Hallucination'): 10\n",
      "  ('MONEY', 'Non-factual Hallucination'): 10\n",
      "  ('CARDINAL', 'Intrinsic Hallucination'): 9\n",
      "  ('EVENT', 'Non-hallucinated'): 9\n",
      "  ('GPE', 'Intrinsic Hallucination'): 9\n",
      "  ('WORK_OF_ART', 'Non-hallucinated'): 8\n",
      "  ('LOC', 'Factual Hallucination'): 6\n",
      "  ('LOC', 'Non-factual Hallucination'): 5\n",
      "  ('ORG', 'Intrinsic Hallucination'): 5\n",
      "  ('EVENT', 'Factual Hallucination'): 5\n",
      "  ('DATE', 'Intrinsic Hallucination'): 5\n",
      "  ('TIME', 'Non-factual Hallucination'): 4\n",
      "  ('TIME', 'Non-hallucinated'): 4\n",
      "  ('FAC', 'Non-factual Hallucination'): 4\n",
      "  ('ORDINAL', 'Intrinsic Hallucination'): 4\n",
      "  ('NORP', 'Non-factual Hallucination'): 3\n",
      "  ('QUANTITY', 'Non-hallucinated'): 3\n",
      "  ('ORDINAL', 'Factual Hallucination'): 3\n",
      "  ('NORP', 'Intrinsic Hallucination'): 2\n",
      "  ('PERCENT', 'Factual Hallucination'): 2\n",
      "  ('PERSON', 'Intrinsic Hallucination'): 2\n",
      "  ('MONEY', 'Intrinsic Hallucination'): 2\n",
      "  ('PRODUCT', 'Non-hallucinated'): 2\n",
      "  ('FAC', 'Intrinsic Hallucination'): 1\n",
      "  ('WORK_OF_ART', 'Factual Hallucination'): 1\n",
      "  ('LAW', 'Non-hallucinated'): 1\n",
      "  ('QUANTITY', 'Non-factual Hallucination'): 1\n",
      "  ('PRODUCT', 'Factual Hallucination'): 1\n",
      "  ('WORK_OF_ART', 'Non-factual Hallucination'): 1\n",
      "  ('EVENT', 'Non-factual Hallucination'): 1\n",
      "  ('LAW', 'Factual Hallucination'): 1\n",
      "  ('PRODUCT', 'Non-factual Hallucination'): 1\n",
      "  ('FAC', 'Factual Hallucination'): 1\n"
     ]
    }
   ],
   "source": [
    "# Cross-analyze type and label patterns\n",
    "def analyze_type_label_patterns(data, dataset_name):\n",
    "    type_label_pairs = Counter()\n",
    "    for entry in data:\n",
    "        for entity in entry['entities']:\n",
    "            pair = (entity.get('type', 'Unknown'), entity.get('label', 'Unknown'))\n",
    "            type_label_pairs[pair] += 1\n",
    "\n",
    "    print(f\"--- {dataset_name} Type-Label Pair Patterns ---\")\n",
    "    for pair, count in type_label_pairs.most_common():\n",
    "        print(f\"  {pair}: {count}\")\n",
    "\n",
    "# Run for test.json and train.json\n",
    "analyze_type_label_patterns(test_data, \"test.json\")\n",
    "analyze_type_label_patterns(train_data, \"train.json\")\n"
   ]
  },
  {
   "cell_type": "code",
   "execution_count": 14,
   "metadata": {},
   "outputs": [
    {
     "name": "stdout",
     "output_type": "stream",
     "text": [
      "--- test.json Source Length Analysis ---\n",
      "  Average length: 353.32 words\n",
      "  Max length: 1725, Min length: 36\n",
      "--- train.json Source Length Analysis ---\n",
      "  Average length: 345.24 words\n",
      "  Max length: 1472, Min length: 49\n"
     ]
    }
   ],
   "source": [
    "# Analyze source text lengths\n",
    "def analyze_source_lengths(data, dataset_name):\n",
    "    source_lengths = [len(entry['source'].split()) for entry in data]\n",
    "    print(f\"--- {dataset_name} Source Length Analysis ---\")\n",
    "    print(f\"  Average length: {sum(source_lengths)/len(source_lengths):.2f} words\")\n",
    "    print(f\"  Max length: {max(source_lengths)}, Min length: {min(source_lengths)}\")\n",
    "\n",
    "# Run for test.json and train.json\n",
    "analyze_source_lengths(test_data, \"test.json\")\n",
    "analyze_source_lengths(train_data, \"train.json\")\n"
   ]
  },
  {
   "cell_type": "code",
   "execution_count": 15,
   "metadata": {},
   "outputs": [
    {
     "name": "stdout",
     "output_type": "stream",
     "text": [
      "--- test.json Entity Length Analysis ---\n",
      "  Average length: 8.50\n",
      "  Max length: 50, Min length: 2\n",
      "--- Start Position ---\n",
      "  Max: 214, Min: 0\n",
      "--- End Position ---\n",
      "  Max: 218, Min: 2\n",
      "--- train.json Entity Length Analysis ---\n",
      "  Average length: 8.59\n",
      "  Max length: 49, Min length: 1\n",
      "--- Start Position ---\n",
      "  Max: 231, Min: 0\n",
      "--- End Position ---\n",
      "  Max: 252, Min: 2\n"
     ]
    }
   ],
   "source": [
    "# Analyze entity lengths and positions\n",
    "def analyze_entity_lengths(data, dataset_name):\n",
    "    entity_lengths = []\n",
    "    start_positions = []\n",
    "    end_positions = []\n",
    "\n",
    "    for entry in data:\n",
    "        for entity in entry['entities']:\n",
    "            entity_lengths.append(len(entity.get('ent', '')))\n",
    "            start_positions.append(entity['start'])\n",
    "            end_positions.append(entity['end'])\n",
    "\n",
    "    print(f\"--- {dataset_name} Entity Length Analysis ---\")\n",
    "    print(f\"  Average length: {sum(entity_lengths)/len(entity_lengths):.2f}\")\n",
    "    print(f\"  Max length: {max(entity_lengths)}, Min length: {min(entity_lengths)}\")\n",
    "    print(f\"--- Start Position ---\")\n",
    "    print(f\"  Max: {max(start_positions)}, Min: {min(start_positions)}\")\n",
    "    print(f\"--- End Position ---\")\n",
    "    print(f\"  Max: {max(end_positions)}, Min: {min(end_positions)}\")\n",
    "\n",
    "# Run for test.json and train.json\n",
    "analyze_entity_lengths(test_data, \"test.json\")\n",
    "analyze_entity_lengths(train_data, \"train.json\")\n"
   ]
  },
  {
   "cell_type": "code",
   "execution_count": 16,
   "metadata": {},
   "outputs": [
    {
     "name": "stdout",
     "output_type": "stream",
     "text": [
      "--- test.json Label Distribution ---\n",
      "Counter({'Non-hallucinated': 583, 'Non-factual Hallucination': 134, 'Factual Hallucination': 118, 'Intrinsic Hallucination': 8})\n",
      "--- test.json Type Distribution ---\n",
      "Counter({'PERSON': 264, 'GPE': 173, 'ORG': 125, 'DATE': 98, 'CARDINAL': 61, 'NORP': 47, 'ORDINAL': 19, 'LOC': 15, 'EVENT': 11, 'MONEY': 10, 'PERCENT': 5, 'TIME': 4, 'PRODUCT': 3, 'WORK_OF_ART': 2, 'QUANTITY': 2, 'Unknown': 2, 'FAC': 2})\n",
      "--- train.json Label Distribution ---\n",
      "Counter({'Non-hallucinated': 1093, 'Factual Hallucination': 270, 'Non-factual Hallucination': 230, 'Intrinsic Hallucination': 39})\n",
      "--- train.json Type Distribution ---\n",
      "Counter({'PERSON': 483, 'GPE': 355, 'ORG': 252, 'DATE': 177, 'CARDINAL': 106, 'NORP': 99, 'ORDINAL': 42, 'LOC': 28, 'MONEY': 24, 'FAC': 21, 'EVENT': 15, 'WORK_OF_ART': 10, 'TIME': 8, 'QUANTITY': 4, 'PRODUCT': 4, 'PERCENT': 2, 'LAW': 2})\n"
     ]
    }
   ],
   "source": [
    "from collections import Counter\n",
    "\n",
    "# Analyze label and type distributions\n",
    "def analyze_label_type_distribution(data, dataset_name):\n",
    "    label_counter = Counter()\n",
    "    type_counter = Counter()\n",
    "    for entry in data:\n",
    "        for entity in entry['entities']:\n",
    "            label_counter[entity.get('label', 'Unknown')] += 1\n",
    "            type_counter[entity.get('type', 'Unknown')] += 1\n",
    "    print(f\"--- {dataset_name} Label Distribution ---\")\n",
    "    print(label_counter)\n",
    "    print(f\"--- {dataset_name} Type Distribution ---\")\n",
    "    print(type_counter)\n",
    "\n",
    "# Run for test.json and train.json\n",
    "analyze_label_type_distribution(test_data, \"test.json\")\n",
    "analyze_label_type_distribution(train_data, \"train.json\")\n"
   ]
  }
 ],
 "metadata": {
  "kernelspec": {
   "display_name": "env",
   "language": "python",
   "name": "python3"
  },
  "language_info": {
   "codemirror_mode": {
    "name": "ipython",
    "version": 3
   },
   "file_extension": ".py",
   "mimetype": "text/x-python",
   "name": "python",
   "nbconvert_exporter": "python",
   "pygments_lexer": "ipython3",
   "version": "3.10.11"
  }
 },
 "nbformat": 4,
 "nbformat_minor": 2
}
